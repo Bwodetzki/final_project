{
 "cells": [
  {
   "cell_type": "code",
   "execution_count": 6,
   "metadata": {},
   "outputs": [],
   "source": [
    "import numpy as np\n",
    "import sympy as sy\n",
    "\n",
    "def CW_model(n, dt):\n",
    "    Phi_rr = np.array([[4-3*sy.cos(n*dt)       , 0, 0           ],\n",
    "                       [6*(sy.sin(n*dt) - n*dt), 1, 0           ],\n",
    "                       [0                      , 0, sy.cos(n*dt)]])\n",
    "    \n",
    "    Phi_rv = np.array([[1/n * sy.sin(n*dt)   , 2/n * (1-sy.cos(n*dt))     , 0               ],\n",
    "                       [-2/n*(1-sy.cos(n*dt)), 1/n*(4*sy.sin(n*dt)-3*n*dt), 0               ],\n",
    "                       [0                    , 0                          , 1/n*sy.sin(n*dt)]])\n",
    "    \n",
    "    Phi_vr = np.array([[3*n*sy.sin(n*dt)     , 0, 0              ],\n",
    "                       [-6*n*(1-sy.cos(n*dt)), 0, 0              ],\n",
    "                       [0                    , 0, -n*sy.sin(n*dt)]])\n",
    "    \n",
    "    Phi_vv = np.array([[sy.cos(n*dt)   , 2*sy.sin(n*dt)  , 0           ],\n",
    "                       [-2*sy.sin(n*dt), 4*sy.cos(n*dt)-3, 0           ],\n",
    "                       [0              , 0               , sy.cos(n*dt)]])\n",
    "    return sy.Matrix(np.block([[Phi_rr, Phi_rv],\n",
    "                     [Phi_vr, Phi_vv]]))"
   ]
  },
  {
   "cell_type": "code",
   "execution_count": 7,
   "metadata": {},
   "outputs": [
    {
     "data": {
      "text/latex": [
       "$\\displaystyle \\left[\\begin{matrix}4 - 3 \\cos{\\left(n t \\right)} & 0 & 0 & \\frac{\\sin{\\left(n t \\right)}}{n} & \\frac{2 \\cdot \\left(1 - \\cos{\\left(n t \\right)}\\right)}{n} & 0\\\\- 6 n t + 6 \\sin{\\left(n t \\right)} & 1 & 0 & - \\frac{2 \\cdot \\left(1 - \\cos{\\left(n t \\right)}\\right)}{n} & \\frac{- 3 n t + 4 \\sin{\\left(n t \\right)}}{n} & 0\\\\0 & 0 & \\cos{\\left(n t \\right)} & 0 & 0 & \\frac{\\sin{\\left(n t \\right)}}{n}\\\\3 n \\sin{\\left(n t \\right)} & 0 & 0 & \\cos{\\left(n t \\right)} & 2 \\sin{\\left(n t \\right)} & 0\\\\- 6 n \\left(1 - \\cos{\\left(n t \\right)}\\right) & 0 & 0 & - 2 \\sin{\\left(n t \\right)} & 4 \\cos{\\left(n t \\right)} - 3 & 0\\\\0 & 0 & - n \\sin{\\left(n t \\right)} & 0 & 0 & \\cos{\\left(n t \\right)}\\end{matrix}\\right]$"
      ],
      "text/plain": [
       "Matrix([\n",
       "[     4 - 3*cos(n*t), 0,           0,          sin(n*t)/n,      2*(1 - cos(n*t))/n,          0],\n",
       "[-6*n*t + 6*sin(n*t), 1,           0, -2*(1 - cos(n*t))/n, (-3*n*t + 4*sin(n*t))/n,          0],\n",
       "[                  0, 0,    cos(n*t),                   0,                       0, sin(n*t)/n],\n",
       "[       3*n*sin(n*t), 0,           0,            cos(n*t),              2*sin(n*t),          0],\n",
       "[-6*n*(1 - cos(n*t)), 0,           0,         -2*sin(n*t),          4*cos(n*t) - 3,          0],\n",
       "[                  0, 0, -n*sin(n*t),                   0,                       0,   cos(n*t)]])"
      ]
     },
     "execution_count": 7,
     "metadata": {},
     "output_type": "execute_result"
    }
   ],
   "source": [
    "import sympy as sy\n",
    "# from controllers import CW_model\n",
    "\n",
    "n, t = sy.symbols('n, t')\n",
    "clohessy_model = CW_model(n, t)\n",
    "clohessy_model"
   ]
  },
  {
   "cell_type": "code",
   "execution_count": null,
   "metadata": {},
   "outputs": [],
   "source": []
  }
 ],
 "metadata": {
  "kernelspec": {
   "display_name": ".venv",
   "language": "python",
   "name": "python3"
  },
  "language_info": {
   "codemirror_mode": {
    "name": "ipython",
    "version": 3
   },
   "file_extension": ".py",
   "mimetype": "text/x-python",
   "name": "python",
   "nbconvert_exporter": "python",
   "pygments_lexer": "ipython3",
   "version": "3.11.6"
  },
  "orig_nbformat": 4
 },
 "nbformat": 4,
 "nbformat_minor": 2
}
